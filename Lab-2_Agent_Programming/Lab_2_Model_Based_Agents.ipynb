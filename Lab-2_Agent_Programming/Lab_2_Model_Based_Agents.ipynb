{
 "cells": [
  {
   "cell_type": "markdown",
   "metadata": {},
   "source": [
    "Lab Exercise 2 : CSE1014 : Foundations of Artificial Intelligence(AI) : Agent Programming\n",
    "\n",
    "Model-Based Agent"
   ]
  },
  {
   "cell_type": "markdown",
   "metadata": {},
   "source": [
    "# Problem Statement"
   ]
  },
  {
   "cell_type": "markdown",
   "metadata": {},
   "source": [
    "In a E-commerce website, we have the following privileges:\n",
    "1. Surfing for items.\n",
    "2. Adding items to the cart.\n",
    "3. Adding items to the wishlist.\n",
    "4. Checkout the cart\n",
    "\n",
    "The website gives timely notifications based on the user's activity history. Here, we develop a Model-Based Agent which gives the required notification messages based on the assumed criterion:\n",
    "<table>\n",
    "<tr>\n",
    "<td>Condition</td>\n",
    "<td>Action</td>\n",
    "</tr>\n",
    "<tr>\n",
    "<td>Counter is divisible by 2</td>\n",
    "<td>Send the notification for any 2 customers in the add to cart history</td>\n",
    "</tr>\n",
    "<tr>\n",
    "<td>Counter is divisible by 3</td>\n",
    "<td>Send the notification for any 2 customers in the add to wishlist history</td>\n",
    "</tr>\n",
    "<tr>\n",
    "<td>Counter is divisible by 7</td>\n",
    "<td>Send the notification for any 2 customers in the surf history</td>\n",
    "</tr>\n",
    "<tr>\n",
    "<td>If items are checked out</td>\n",
    "<td>Send the notification appreciating the use of the interface</td>\n",
    "</tr>\n",
    "</table>\n",
    "<u>Note:</u> The customers are chosen randomly."
   ]
  },
  {
   "cell_type": "markdown",
   "metadata": {},
   "source": [
    "# Importing the required modules"
   ]
  },
  {
   "cell_type": "code",
   "execution_count": 39,
   "metadata": {},
   "outputs": [],
   "source": [
    "import pandas as pd\n",
    "import random as r\n",
    "from tabulate import tabulate\n",
    "import seaborn as sns\n",
    "import matplotlib.pyplot as plt"
   ]
  },
  {
   "cell_type": "markdown",
   "metadata": {},
   "source": [
    "# Agent Programming"
   ]
  },
  {
   "cell_type": "markdown",
   "metadata": {},
   "source": [
    "## Agent Code"
   ]
  },
  {
   "cell_type": "code",
   "execution_count": 40,
   "metadata": {},
   "outputs": [],
   "source": [
    "class Agent:\n",
    "    def __init__(self) :\n",
    "        self.notificationMessages = {\n",
    "                       \"Surfed\": \"Were your looking for something?\",\n",
    "                       \"AddedToCart\": \"Your cart has something..\",\n",
    "                       \"AddedToWishList\": \"You have pending wishes...\",\n",
    "                       \"Checkout\": \"Thank you for shopping with us!\"\n",
    "                    }\n",
    "        self.hist = {\n",
    "                       \"Surfed\": [],\n",
    "                       \"AddedToCart\": [],\n",
    "                       \"AddedToWishList\": []\n",
    "                    }\n",
    "        self.c = 0\n",
    "        self.op = None\n",
    "    def __sendNotifications(self,type):\n",
    "        if len(self.hist[type]) > 1:\n",
    "         for i in set(r.sample(self.hist[type],k=2)):\n",
    "            print(str(i)+\":\"+self.notificationMessages[type])\n",
    "            self.op.at[type,i] += 1\n",
    "    def move(self,env) :\n",
    "        self.c = 0\n",
    "        self.op = pd.DataFrame(0,columns=env.columns,index=list(self.hist.keys()))\n",
    "        for i in env.index:\n",
    "            for j in env.columns:\n",
    "               self.c += 1\n",
    "               if env.at[i,j] == \"Checkout\":\n",
    "                   print(str(j)+\":\"+self.notificationMessages[\"Checkout\"])\n",
    "               else:\n",
    "                   self.hist[env.at[i,j]].append(j)\n",
    "               if self.c % 7 == 0:\n",
    "                   self.__sendNotifications(\"Surfed\")\n",
    "               elif self.c % 2 == 0:\n",
    "                   self.__sendNotifications(\"AddedToCart\")\n",
    "               elif self.c % 3 == 0:\n",
    "                   self.__sendNotifications(\"AddedToWishList\")\n",
    "    def getOp(self):\n",
    "        return self.op\n"
   ]
  },
  {
   "cell_type": "markdown",
   "metadata": {},
   "source": [
    "## Environment Code"
   ]
  },
  {
   "cell_type": "markdown",
   "metadata": {},
   "source": [
    "The environment is of a matrix structure with rows as the product names and columns as custumer ids. A 9 X 9 matrix is randomly generated with each cell comprising of an action performed by the user on that product."
   ]
  },
  {
   "cell_type": "code",
   "execution_count": 41,
   "metadata": {},
   "outputs": [],
   "source": [
    "class Environment:\n",
    "    def __init__(self) :\n",
    "        self.pdts = [\"Laptop\",\"Earphones\",\"Headphones\",\"Pendrive\",\"Notebooks\",\n",
    "                     \"Pencils\",\"Smartphone\",\"Speakers\",\"Sanitiser\"]\n",
    "        self.custids = r.choices(range(1000,9999),k=9) \n",
    "        self.env = pd.DataFrame(columns=self.custids,index=self.pdts)\n",
    "        self.activities = [\"Surfed\",\"AddedToCart\",\"AddedToWishList\",\"Checkout\"]\n",
    "    def createEnv(self):\n",
    "        for i in self.env.index:\n",
    "            for j in self.env.columns:\n",
    "                self.env.at[i,j] = r.choice(self.activities)\n",
    "    def showEnv(self):\n",
    "        print(tabulate(self.env,headers='keys', tablefmt='fancy_grid'))"
   ]
  },
  {
   "cell_type": "markdown",
   "metadata": {},
   "source": [
    "## Driver's Code"
   ]
  },
  {
   "cell_type": "code",
   "execution_count": 42,
   "metadata": {},
   "outputs": [
    {
     "name": "stdout",
     "output_type": "stream",
     "text": [
      "╒════════════╤═════════════╤═════════════════╤═════════════════╤═════════════════╤═════════════════╤═════════════════╤═════════════════╤═════════════════╤═════════════════╕\n",
      "│            │ 2905        │ 7761            │ 7087            │ 9307            │ 3622            │ 3391            │ 2380            │ 4771            │ 8491            │\n",
      "╞════════════╪═════════════╪═════════════════╪═════════════════╪═════════════════╪═════════════════╪═════════════════╪═════════════════╪═════════════════╪═════════════════╡\n",
      "│ Laptop     │ Checkout    │ AddedToWishList │ AddedToWishList │ AddedToCart     │ AddedToCart     │ Checkout        │ AddedToWishList │ Checkout        │ Checkout        │\n",
      "├────────────┼─────────────┼─────────────────┼─────────────────┼─────────────────┼─────────────────┼─────────────────┼─────────────────┼─────────────────┼─────────────────┤\n",
      "│ Earphones  │ Surfed      │ Checkout        │ AddedToCart     │ AddedToWishList │ Checkout        │ AddedToCart     │ AddedToCart     │ AddedToWishList │ Surfed          │\n",
      "├────────────┼─────────────┼─────────────────┼─────────────────┼─────────────────┼─────────────────┼─────────────────┼─────────────────┼─────────────────┼─────────────────┤\n",
      "│ Headphones │ Checkout    │ Checkout        │ AddedToWishList │ Checkout        │ AddedToCart     │ AddedToCart     │ Checkout        │ Checkout        │ AddedToCart     │\n",
      "├────────────┼─────────────┼─────────────────┼─────────────────┼─────────────────┼─────────────────┼─────────────────┼─────────────────┼─────────────────┼─────────────────┤\n",
      "│ Pendrive   │ Surfed      │ AddedToWishList │ Checkout        │ AddedToWishList │ AddedToWishList │ Surfed          │ Surfed          │ AddedToCart     │ Surfed          │\n",
      "├────────────┼─────────────┼─────────────────┼─────────────────┼─────────────────┼─────────────────┼─────────────────┼─────────────────┼─────────────────┼─────────────────┤\n",
      "│ Notebooks  │ Checkout    │ Surfed          │ Checkout        │ Checkout        │ AddedToWishList │ Surfed          │ AddedToWishList │ Surfed          │ Surfed          │\n",
      "├────────────┼─────────────┼─────────────────┼─────────────────┼─────────────────┼─────────────────┼─────────────────┼─────────────────┼─────────────────┼─────────────────┤\n",
      "│ Pencils    │ Surfed      │ AddedToWishList │ AddedToWishList │ AddedToCart     │ AddedToWishList │ Surfed          │ AddedToCart     │ AddedToCart     │ AddedToWishList │\n",
      "├────────────┼─────────────┼─────────────────┼─────────────────┼─────────────────┼─────────────────┼─────────────────┼─────────────────┼─────────────────┼─────────────────┤\n",
      "│ Smartphone │ Surfed      │ Surfed          │ AddedToWishList │ Surfed          │ Surfed          │ AddedToWishList │ AddedToCart     │ Surfed          │ Checkout        │\n",
      "├────────────┼─────────────┼─────────────────┼─────────────────┼─────────────────┼─────────────────┼─────────────────┼─────────────────┼─────────────────┼─────────────────┤\n",
      "│ Speakers   │ Checkout    │ AddedToWishList │ AddedToCart     │ AddedToWishList │ AddedToCart     │ Surfed          │ Surfed          │ Checkout        │ AddedToWishList │\n",
      "├────────────┼─────────────┼─────────────────┼─────────────────┼─────────────────┼─────────────────┼─────────────────┼─────────────────┼─────────────────┼─────────────────┤\n",
      "│ Sanitiser  │ AddedToCart │ AddedToWishList │ Checkout        │ AddedToCart     │ AddedToWishList │ AddedToWishList │ AddedToWishList │ Checkout        │ AddedToWishList │\n",
      "╘════════════╧═════════════╧═════════════════╧═════════════════╧═════════════════╧═════════════════╧═════════════════╧═════════════════╧═════════════════╧═════════════════╛\n"
     ]
    }
   ],
   "source": [
    "e = Environment()\n",
    "e.createEnv()\n",
    "e.showEnv()"
   ]
  },
  {
   "cell_type": "markdown",
   "metadata": {},
   "source": [
    "# Final Result"
   ]
  },
  {
   "cell_type": "code",
   "execution_count": 43,
   "metadata": {},
   "outputs": [
    {
     "name": "stdout",
     "output_type": "stream",
     "text": [
      "2905:Thank you for shopping with us!\n",
      "7761:You have pending wishes...\n",
      "7087:You have pending wishes...\n",
      "3391:Thank you for shopping with us!\n",
      "9307:Your cart has something..\n",
      "3622:Your cart has something..\n",
      "4771:Thank you for shopping with us!\n",
      "9307:Your cart has something..\n",
      "3622:Your cart has something..\n",
      "8491:Thank you for shopping with us!\n",
      "7761:You have pending wishes...\n",
      "7087:You have pending wishes...\n",
      "9307:Your cart has something..\n",
      "3622:Your cart has something..\n",
      "7761:Thank you for shopping with us!\n",
      "3622:Your cart has something..\n",
      "7087:Your cart has something..\n",
      "3622:Thank you for shopping with us!\n",
      "7761:You have pending wishes...\n",
      "7087:You have pending wishes...\n",
      "9307:Your cart has something..\n",
      "3622:Your cart has something..\n",
      "9307:Your cart has something..\n",
      "2380:Your cart has something..\n",
      "2905:Thank you for shopping with us!\n",
      "7761:Thank you for shopping with us!\n",
      "3622:Your cart has something..\n",
      "3391:Your cart has something..\n",
      "2905:Were your looking for something?\n",
      "8491:Were your looking for something?\n",
      "9307:Thank you for shopping with us!\n",
      "2380:Your cart has something..\n",
      "7087:Your cart has something..\n",
      "9307:Your cart has something..\n",
      "3391:Your cart has something..\n",
      "2380:Thank you for shopping with us!\n",
      "4771:Thank you for shopping with us!\n",
      "2380:Your cart has something..\n",
      "3391:Your cart has something..\n",
      "4771:You have pending wishes...\n",
      "7087:You have pending wishes...\n",
      "2905:Were your looking for something?\n",
      "7087:Thank you for shopping with us!\n",
      "3622:Your cart has something..\n",
      "3391:Your cart has something..\n",
      "8491:Your cart has something..\n",
      "2380:Your cart has something..\n",
      "9307:You have pending wishes...\n",
      "4771:You have pending wishes...\n",
      "8491:Your cart has something..\n",
      "3622:Your cart has something..\n",
      "2905:Were your looking for something?\n",
      "3391:Were your looking for something?\n",
      "8491:Your cart has something..\n",
      "3391:Your cart has something..\n",
      "2905:Thank you for shopping with us!\n",
      "8491:Your cart has something..\n",
      "3622:Your cart has something..\n",
      "7087:Thank you for shopping with us!\n",
      "7761:You have pending wishes...\n",
      "9307:You have pending wishes...\n",
      "9307:Thank you for shopping with us!\n",
      "8491:Your cart has something..\n",
      "3622:Your cart has something..\n",
      "7761:Were your looking for something?\n",
      "2380:Were your looking for something?\n",
      "7087:Your cart has something..\n",
      "3391:Your cart has something..\n",
      "3622:You have pending wishes...\n",
      "7087:You have pending wishes...\n",
      "2380:Your cart has something..\n",
      "3391:Your cart has something..\n",
      "3622:Your cart has something..\n",
      "3391:Your cart has something..\n",
      "2905:Were your looking for something?\n",
      "8491:Were your looking for something?\n",
      "8491:Your cart has something..\n",
      "3391:Your cart has something..\n",
      "9307:You have pending wishes...\n",
      "4771:You have pending wishes...\n",
      "2380:Your cart has something..\n",
      "3391:Your cart has something..\n",
      "8491:Your cart has something..\n",
      "3391:Your cart has something..\n",
      "2905:Were your looking for something?\n",
      "4771:Were your looking for something?\n",
      "7761:You have pending wishes...\n",
      "7087:You have pending wishes...\n",
      "8491:Your cart has something..\n",
      "3391:Your cart has something..\n",
      "3622:Your cart has something..\n",
      "3391:Your cart has something..\n",
      "2380:Your cart has something..\n",
      "7087:Your cart has something..\n",
      "8491:Thank you for shopping with us!\n",
      "2905:Were your looking for something?\n",
      "7761:Were your looking for something?\n",
      "2905:Thank you for shopping with us!\n",
      "9307:Your cart has something..\n",
      "2380:Your cart has something..\n",
      "8491:Your cart has something..\n",
      "2380:Your cart has something..\n",
      "4771:Your cart has something..\n",
      "2380:Your cart has something..\n",
      "9307:You have pending wishes...\n",
      "7087:You have pending wishes...\n",
      "2905:Were your looking for something?\n",
      "9307:Were your looking for something?\n",
      "4771:Thank you for shopping with us!\n",
      "2380:Your cart has something..\n",
      "3622:Your cart has something..\n",
      "9307:Your cart has something..\n",
      "3622:Your cart has something..\n",
      "7087:Thank you for shopping with us!\n",
      "7761:You have pending wishes...\n",
      "7087:You have pending wishes...\n",
      "9307:Your cart has something..\n",
      "3622:Your cart has something..\n",
      "2380:Were your looking for something?\n",
      "3391:Were your looking for something?\n",
      "4771:Your cart has something..\n",
      "3391:Your cart has something..\n",
      "4771:Thank you for shopping with us!\n",
      "2380:Your cart has something..\n",
      "3622:Your cart has something..\n",
      "9307:You have pending wishes...\n",
      "7087:You have pending wishes...\n"
     ]
    }
   ],
   "source": [
    "a = Agent()\n",
    "a.move(e.env)"
   ]
  },
  {
   "cell_type": "markdown",
   "metadata": {},
   "source": [
    "# Visualising the final results"
   ]
  },
  {
   "cell_type": "code",
   "execution_count": 44,
   "metadata": {},
   "outputs": [
    {
     "data": {
      "text/plain": [
       "Text(0.5, 1.0, \"Notification Agent's Activity\")"
      ]
     },
     "execution_count": 44,
     "metadata": {},
     "output_type": "execute_result"
    },
    {
     "data": {
      "image/png": "[encoded data removed]",
      "text/plain": [
       "<Figure size 432x288 with 2 Axes>"
      ]
     },
     "metadata": {},
     "output_type": "display_data"
    }
   ],
   "source": [
    "sns.set(font_scale=2)\n",
    "sns.heatmap(a.getOp(), annot=True, fmt=\"d\", annot_kws={\"fontsize\":20})\n",
    "plt.title(\"Notification Agent's Activity\")"
   ]
  }
 ],
 "metadata": {
  "interpreter": {
   "hash": "a55ab4ece29384b9da2602029a0f6ed5cbe09323f95f9aa4d8fe2db970f11356"
  },
  "kernelspec": {
   "display_name": "Python 3 (ipykernel)",
   "language": "python",
   "name": "python3"
  },
  "language_info": {
   "codemirror_mode": {
    "name": "ipython",
    "version": 3
   },
   "file_extension": ".py",
   "mimetype": "text/x-python",
   "name": "python",
   "nbconvert_exporter": "python",
   "pygments_lexer": "ipython3",
   "version": "3.9.7"
  }
 },
 "nbformat": 4,
 "nbformat_minor": 2
}
