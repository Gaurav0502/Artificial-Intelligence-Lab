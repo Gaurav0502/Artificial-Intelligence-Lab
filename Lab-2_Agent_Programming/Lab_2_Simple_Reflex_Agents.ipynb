{
 "cells": [
  {
   "cell_type": "markdown",
   "metadata": {
    "id": "fwAV5MDNiZtL"
   },
   "source": [
    "\n",
    "Lab Exercise 2 : CSE1014 : Foundations of Artificial Intelligence(AI) : Agent Programming\n",
    "\n",
    "Simple Reflex Agent\n",
    "\n",
    "Name: Gaurav Pendharkar\n",
    "\n",
    "Registration No.: 20BAI1153"
   ]
  },
  {
   "cell_type": "markdown",
   "metadata": {
    "id": "PkFCcY6OlrF8"
   },
   "source": [
    "# Problem Statement"
   ]
  },
  {
   "cell_type": "markdown",
   "metadata": {
    "id": "Y5xYs60besYS"
   },
   "source": [
    "In an E-commerce website, a user can surf items, add items to cart, add items to wishlist and checkout the cart. This activity of the user is used to provide notifications to user. Hence, here we will store the user activity data using a Simplex Reflex Agent with four states:\n",
    "1.  Surfed\n",
    "2.  AddedToCart\n",
    "3.  AddedToWishList\n",
    "4.  Checkout."
   ]
  },
  {
   "cell_type": "markdown",
   "metadata": {},
   "source": [
    "# Importing the required modules"
   ]
  },
  {
   "cell_type": "code",
   "execution_count": 152,
   "metadata": {},
   "outputs": [],
   "source": [
    "import pandas as pd\n",
    "import random as r\n",
    "from tabulate import tabulate"
   ]
  },
  {
   "cell_type": "markdown",
   "metadata": {},
   "source": [
    "# Initialising the data"
   ]
  },
  {
   "cell_type": "code",
   "execution_count": 153,
   "metadata": {},
   "outputs": [],
   "source": [
    "pnames = [\"Shampoo\",\"Notebooks\",\"Pencils\",\"Sanitiser\",\"Laptop\"]\n",
    "custids = [\"10983\",\"67453\",\"90872\",\"12345\",\"88990\"]"
   ]
  },
  {
   "cell_type": "markdown",
   "metadata": {},
   "source": [
    "# Agent Programming"
   ]
  },
  {
   "cell_type": "markdown",
   "metadata": {},
   "source": [
    "## Agent Code"
   ]
  },
  {
   "cell_type": "code",
   "execution_count": 154,
   "metadata": {
    "id": "QmKSBIdbh4Nn"
   },
   "outputs": [],
   "source": [
    "class Agent:\n",
    "  #Constructor to initialise the class variables.\n",
    "  def __init__(self):\n",
    "    self.at = (None,None)\n",
    "    self.schema = [\"Product_Name\",\"Customer_ID\"]\n",
    "    self.surfed = pd.DataFrame(columns=self.schema)\n",
    "    self.addedTocart = pd.DataFrame(columns=self.schema)\n",
    "    self.addedToWishList = pd.DataFrame(columns=self.schema)\n",
    "    self.checkout = pd.DataFrame(columns=self.schema)\n",
    "\n",
    "  #Moving in the created environment.    \n",
    "  def move(self,env):\n",
    "    for i in pnames:\n",
    "       for j in custids:\n",
    "         self.at = (i,j)\n",
    "         if env.at[i,j] == \"Surfed\":\n",
    "            self.surfed = self.surfed.append({\"Product_Name\":i,\"Customer_ID\":j},ignore_index=True)\n",
    "         elif env.at[i,j] == \"AddedToCart\":\n",
    "            self.addedTocart = self.addedTocart.append({\"Product_Name\":i,\"Customer_ID\":j},ignore_index=True)\n",
    "         elif env.at[i,j] == \"AddedToWishList\":\n",
    "            self.addedToWishList = self.addedToWishList.append({\"Product_Name\":i,\"Customer_ID\":j},ignore_index=True)\n",
    "         elif env.at[i,j] == \"Checkout\":\n",
    "            self.checkout = self.checkout.append({\"Product_Name\":i,\"Customer_ID\":j},ignore_index=True)\n",
    "  \n",
    "  #Displaying the surfing activity on the E-commerce platform.\n",
    "  def displaySurfed(self):\n",
    "    print(tabulate(self.surfed,headers='keys', tablefmt='fancy_grid'))\n",
    "\n",
    "  #Displaying the added to cart activity on the E-commerce platform.\n",
    "  def displayCart(self):\n",
    "    print(tabulate(self.addedTocart,headers='keys', tablefmt='fancy_grid'))\n",
    "\n",
    "  #Displaying the added to wishlist activity on the E-commerce platform.\n",
    "  def displayWishList(self):\n",
    "    print(tabulate(self.addedToWishList,headers='keys', tablefmt='fancy_grid'))\n",
    "\n",
    "  #Displaying the Checkout activity on the E-commerce platform.\n",
    "  def displayCheckout(self):\n",
    "    print(tabulate(self.checkout,headers='keys', tablefmt='fancy_grid'))\n"
   ]
  },
  {
   "cell_type": "markdown",
   "metadata": {},
   "source": [
    "## Environment Code"
   ]
  },
  {
   "cell_type": "markdown",
   "metadata": {},
   "source": [
    "An environment in the form of matrix is created with row labels as Product Names and column labels as the Customer IDs.(5 X 5 Matrix)"
   ]
  },
  {
   "cell_type": "code",
   "execution_count": 155,
   "metadata": {},
   "outputs": [],
   "source": [
    "class environment:\n",
    " #Constructor to initialise the class variables.\n",
    " def __init__(self):\n",
    "  self.operations = (\"Surfed\",\"AddedToCart\",\"AddedToWishList\",\"Checkout\")\n",
    "  self.env = pd.DataFrame(columns=custids,index=pnames)\n",
    "\n",
    " #Creating the environment.\n",
    " def prepareEnv(self):\n",
    "  for i in pnames:\n",
    "      for j in custids:\n",
    "          self.env.at[i,j] = r.choice(self.operations)\n",
    "\n",
    " #Displaying the environment.\n",
    " def displayEnv(self):\n",
    "  print(tabulate(self.env,headers='keys', tablefmt='fancy_grid'))\n",
    "    \n"
   ]
  },
  {
   "cell_type": "markdown",
   "metadata": {},
   "source": [
    "## Driver's Code"
   ]
  },
  {
   "cell_type": "code",
   "execution_count": 156,
   "metadata": {},
   "outputs": [],
   "source": [
    "custHistoryAgent = Agent()\n",
    "custActions = environment()\n",
    "custActions.prepareEnv()\n",
    "custHistoryAgent.move(custActions.env)"
   ]
  },
  {
   "cell_type": "markdown",
   "metadata": {},
   "source": [
    "## Displaying the environment"
   ]
  },
  {
   "cell_type": "code",
   "execution_count": 157,
   "metadata": {},
   "outputs": [
    {
     "name": "stdout",
     "output_type": "stream",
     "text": [
      "╒═══════════╤═════════════╤═════════════════╤═════════════════╤═════════════╤═════════════════╕\n",
      "│           │ 10983       │ 67453           │ 90872           │ 12345       │ 88990           │\n",
      "╞═══════════╪═════════════╪═════════════════╪═════════════════╪═════════════╪═════════════════╡\n",
      "│ Shampoo   │ AddedToCart │ Surfed          │ Checkout        │ Checkout    │ Checkout        │\n",
      "├───────────┼─────────────┼─────────────────┼─────────────────┼─────────────┼─────────────────┤\n",
      "│ Notebooks │ Surfed      │ AddedToWishList │ AddedToWishList │ Checkout    │ AddedToWishList │\n",
      "├───────────┼─────────────┼─────────────────┼─────────────────┼─────────────┼─────────────────┤\n",
      "│ Pencils   │ Checkout    │ AddedToCart     │ AddedToCart     │ Checkout    │ Checkout        │\n",
      "├───────────┼─────────────┼─────────────────┼─────────────────┼─────────────┼─────────────────┤\n",
      "│ Sanitiser │ Surfed      │ Checkout        │ AddedToCart     │ AddedToCart │ Checkout        │\n",
      "├───────────┼─────────────┼─────────────────┼─────────────────┼─────────────┼─────────────────┤\n",
      "│ Laptop    │ AddedToCart │ AddedToWishList │ Checkout        │ AddedToCart │ AddedToCart     │\n",
      "╘═══════════╧═════════════╧═════════════════╧═════════════════╧═════════════╧═════════════════╛\n"
     ]
    }
   ],
   "source": [
    "custActions.displayEnv()"
   ]
  },
  {
   "cell_type": "markdown",
   "metadata": {},
   "source": [
    "# Final Results"
   ]
  },
  {
   "cell_type": "markdown",
   "metadata": {},
   "source": [
    "## Added to Cart Activity "
   ]
  },
  {
   "cell_type": "code",
   "execution_count": 158,
   "metadata": {},
   "outputs": [
    {
     "name": "stdout",
     "output_type": "stream",
     "text": [
      "╒════╤════════════════╤═══════════════╕\n",
      "│    │ Product_Name   │   Customer_ID │\n",
      "╞════╪════════════════╪═══════════════╡\n",
      "│  0 │ Shampoo        │         10983 │\n",
      "├────┼────────────────┼───────────────┤\n",
      "│  1 │ Pencils        │         67453 │\n",
      "├────┼────────────────┼───────────────┤\n",
      "│  2 │ Pencils        │         90872 │\n",
      "├────┼────────────────┼───────────────┤\n",
      "│  3 │ Sanitiser      │         90872 │\n",
      "├────┼────────────────┼───────────────┤\n",
      "│  4 │ Sanitiser      │         12345 │\n",
      "├────┼────────────────┼───────────────┤\n",
      "│  5 │ Laptop         │         10983 │\n",
      "├────┼────────────────┼───────────────┤\n",
      "│  6 │ Laptop         │         12345 │\n",
      "├────┼────────────────┼───────────────┤\n",
      "│  7 │ Laptop         │         88990 │\n",
      "╘════╧════════════════╧═══════════════╛\n"
     ]
    }
   ],
   "source": [
    "custHistoryAgent.displayCart()"
   ]
  },
  {
   "cell_type": "markdown",
   "metadata": {},
   "source": [
    "## Added to WishList Activity"
   ]
  },
  {
   "cell_type": "code",
   "execution_count": 159,
   "metadata": {},
   "outputs": [
    {
     "name": "stdout",
     "output_type": "stream",
     "text": [
      "╒════╤════════════════╤═══════════════╕\n",
      "│    │ Product_Name   │   Customer_ID │\n",
      "╞════╪════════════════╪═══════════════╡\n",
      "│  0 │ Notebooks      │         67453 │\n",
      "├────┼────────────────┼───────────────┤\n",
      "│  1 │ Notebooks      │         90872 │\n",
      "├────┼────────────────┼───────────────┤\n",
      "│  2 │ Notebooks      │         88990 │\n",
      "├────┼────────────────┼───────────────┤\n",
      "│  3 │ Laptop         │         67453 │\n",
      "╘════╧════════════════╧═══════════════╛\n"
     ]
    }
   ],
   "source": [
    "custHistoryAgent.displayWishList()"
   ]
  },
  {
   "cell_type": "markdown",
   "metadata": {},
   "source": [
    "## Surfing items Activity"
   ]
  },
  {
   "cell_type": "code",
   "execution_count": 160,
   "metadata": {},
   "outputs": [
    {
     "name": "stdout",
     "output_type": "stream",
     "text": [
      "╒════╤════════════════╤═══════════════╕\n",
      "│    │ Product_Name   │   Customer_ID │\n",
      "╞════╪════════════════╪═══════════════╡\n",
      "│  0 │ Shampoo        │         67453 │\n",
      "├────┼────────────────┼───────────────┤\n",
      "│  1 │ Notebooks      │         10983 │\n",
      "├────┼────────────────┼───────────────┤\n",
      "│  2 │ Sanitiser      │         10983 │\n",
      "╘════╧════════════════╧═══════════════╛\n"
     ]
    }
   ],
   "source": [
    "custHistoryAgent.displaySurfed()"
   ]
  },
  {
   "cell_type": "markdown",
   "metadata": {},
   "source": [
    "## Checkout Activity"
   ]
  },
  {
   "cell_type": "code",
   "execution_count": 161,
   "metadata": {},
   "outputs": [
    {
     "name": "stdout",
     "output_type": "stream",
     "text": [
      "╒════╤════════════════╤═══════════════╕\n",
      "│    │ Product_Name   │   Customer_ID │\n",
      "╞════╪════════════════╪═══════════════╡\n",
      "│  0 │ Shampoo        │         90872 │\n",
      "├────┼────────────────┼───────────────┤\n",
      "│  1 │ Shampoo        │         12345 │\n",
      "├────┼────────────────┼───────────────┤\n",
      "│  2 │ Shampoo        │         88990 │\n",
      "├────┼────────────────┼───────────────┤\n",
      "│  3 │ Notebooks      │         12345 │\n",
      "├────┼────────────────┼───────────────┤\n",
      "│  4 │ Pencils        │         10983 │\n",
      "├────┼────────────────┼───────────────┤\n",
      "│  5 │ Pencils        │         12345 │\n",
      "├────┼────────────────┼───────────────┤\n",
      "│  6 │ Pencils        │         88990 │\n",
      "├────┼────────────────┼───────────────┤\n",
      "│  7 │ Sanitiser      │         67453 │\n",
      "├────┼────────────────┼───────────────┤\n",
      "│  8 │ Sanitiser      │         88990 │\n",
      "├────┼────────────────┼───────────────┤\n",
      "│  9 │ Laptop         │         90872 │\n",
      "╘════╧════════════════╧═══════════════╛\n"
     ]
    }
   ],
   "source": [
    "custHistoryAgent.displayCheckout()"
   ]
  }
 ],
 "metadata": {
  "colab": {
   "name": "Lab-2 : Simple Reflex Agents.ipynb",
   "provenance": []
  },
  "kernelspec": {
   "display_name": "Python 3 (ipykernel)",
   "language": "python",
   "name": "python3"
  },
  "language_info": {
   "codemirror_mode": {
    "name": "ipython",
    "version": 3
   },
   "file_extension": ".py",
   "mimetype": "text/x-python",
   "name": "python",
   "nbconvert_exporter": "python",
   "pygments_lexer": "ipython3",
   "version": "3.9.7"
  }
 },
 "nbformat": 4,
 "nbformat_minor": 1
}
