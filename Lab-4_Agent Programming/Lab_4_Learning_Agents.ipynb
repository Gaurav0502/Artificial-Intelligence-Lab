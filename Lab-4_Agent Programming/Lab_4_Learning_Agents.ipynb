{
 "cells": [
  {
   "cell_type": "markdown",
   "metadata": {
    "id": "fwAV5MDNiZtL"
   },
   "source": [
    "\n",
    "Lab Exercise 3 : CSE1014 : Foundations of Artificial Intelligence(AI) : Agent Programming\n",
    "\n",
    "Learning Agent"
   ]
  },
  {
   "cell_type": "markdown",
   "metadata": {},
   "source": [
    "# Problem Statement"
   ]
  },
  {
   "cell_type": "markdown",
   "metadata": {},
   "source": [
    "Based on a user's activity, the browser recommends some webpage by by trying to get insights on the user's interest. Here, the browser behaves as a Learning Agent to provide us the most relevant content based on user's interest. \n",
    "\n",
    "A webpage maybe associated with multiple topics and the user may search for more than one topic. Here, we consider that the user can perform the following:\n",
    "1. Browse for a topic represented by \"Browse:Topic\"\n",
    "2. Not Interested for a topic based on which the browser has recommended a webpage represented by \"NotInterested:Topic\"\n",
    "3. No Action on the browser.\n",
    "\n",
    "Developing a Learning Agent which will use the browsering activity and ratings for browser recommendations to compute the relevance of a particular webpage and display the webpages in descending order of the relevance. \n",
    "\n",
    "<u>Assumption:</u> A user browses for a website only related to one topic. "
   ]
  },
  {
   "cell_type": "markdown",
   "metadata": {},
   "source": [
    "# Importing the required modules"
   ]
  },
  {
   "cell_type": "code",
   "execution_count": 14,
   "metadata": {},
   "outputs": [],
   "source": [
    "import pandas as pd\n",
    "import random as r\n",
    "from tabulate import tabulate"
   ]
  },
  {
   "cell_type": "markdown",
   "metadata": {},
   "source": [
    "# Creating sample data"
   ]
  },
  {
   "cell_type": "markdown",
   "metadata": {},
   "source": [
    "Sample data for webpages is taken with :\n",
    "1. An ID for each webpage\n",
    "2. Topics the webpage is related to.\n",
    "3. Relevance(Initialised to 0)"
   ]
  },
  {
   "cell_type": "markdown",
   "metadata": {},
   "source": [
    "Chosen is a sample of 40 webpages related various topics generated randomly."
   ]
  },
  {
   "cell_type": "markdown",
   "metadata": {},
   "source": [
    "## Creating the DataFrame"
   ]
  },
  {
   "cell_type": "code",
   "execution_count": 15,
   "metadata": {},
   "outputs": [],
   "source": [
    "mayAlsoLikeToView = pd.DataFrame(columns=[\"WebPage ID\",\"Topic\",\"Relevance\"])"
   ]
  },
  {
   "cell_type": "markdown",
   "metadata": {},
   "source": [
    "## Defining the topics for each Webpage"
   ]
  },
  {
   "cell_type": "code",
   "execution_count": 16,
   "metadata": {},
   "outputs": [],
   "source": [
    "topics = [\"Machine Learning\",\"Artificial Intelligence\",\"Python\",\"Javascript\",\"Education\",\n",
    "          \"COVID-19\",\"Pandemics\",\"Airlines\",\"Airport\",\"Aviation\"]"
   ]
  },
  {
   "cell_type": "markdown",
   "metadata": {},
   "source": [
    "## Inserting the required data"
   ]
  },
  {
   "cell_type": "code",
   "execution_count": 17,
   "metadata": {},
   "outputs": [],
   "source": [
    "for i in range(40):\n",
    "    tpcs = \",\".join(set(r.choices(topics,k=r.randint(1,6))))\n",
    "    mayAlsoLikeToView = mayAlsoLikeToView.append({'WebPage ID':i+1,'Topic':tpcs,'Relevance':0},ignore_index=True)"
   ]
  },
  {
   "cell_type": "markdown",
   "metadata": {},
   "source": [
    "## Displaying the data"
   ]
  },
  {
   "cell_type": "code",
   "execution_count": 18,
   "metadata": {},
   "outputs": [
    {
     "name": "stdout",
     "output_type": "stream",
     "text": [
      "╒══════════════╤════════════════════════════════════════════════════════════════════╤═════════════╕\n",
      "│   WebPage ID │ Topic                                                              │   Relevance │\n",
      "╞══════════════╪════════════════════════════════════════════════════════════════════╪═════════════╡\n",
      "│            1 │ Javascript,Airlines,Airport                                        │           0 │\n",
      "├──────────────┼────────────────────────────────────────────────────────────────────┼─────────────┤\n",
      "│            2 │ COVID-19,Aviation                                                  │           0 │\n",
      "├──────────────┼────────────────────────────────────────────────────────────────────┼─────────────┤\n",
      "│            3 │ Education,Python,Airport,Aviation                                  │           0 │\n",
      "├──────────────┼────────────────────────────────────────────────────────────────────┼─────────────┤\n",
      "│            4 │ Machine Learning,Airlines,Airport,Artificial Intelligence          │           0 │\n",
      "├──────────────┼────────────────────────────────────────────────────────────────────┼─────────────┤\n",
      "│            5 │ COVID-19                                                           │           0 │\n",
      "├──────────────┼────────────────────────────────────────────────────────────────────┼─────────────┤\n",
      "│            6 │ Javascript,COVID-19,Airlines                                       │           0 │\n",
      "├──────────────┼────────────────────────────────────────────────────────────────────┼─────────────┤\n",
      "│            7 │ Education,Airport                                                  │           0 │\n",
      "├──────────────┼────────────────────────────────────────────────────────────────────┼─────────────┤\n",
      "│            8 │ Aviation,Javascript,COVID-19,Machine Learning,Airlines,Pandemics   │           0 │\n",
      "├──────────────┼────────────────────────────────────────────────────────────────────┼─────────────┤\n",
      "│            9 │ Aviation,Javascript,Machine Learning,Airlines,Pandemics            │           0 │\n",
      "├──────────────┼────────────────────────────────────────────────────────────────────┼─────────────┤\n",
      "│           10 │ Machine Learning,Airport,Artificial Intelligence                   │           0 │\n",
      "├──────────────┼────────────────────────────────────────────────────────────────────┼─────────────┤\n",
      "│           11 │ COVID-19                                                           │           0 │\n",
      "├──────────────┼────────────────────────────────────────────────────────────────────┼─────────────┤\n",
      "│           12 │ Artificial Intelligence,Airport,Aviation,Machine Learning,Airlines │           0 │\n",
      "├──────────────┼────────────────────────────────────────────────────────────────────┼─────────────┤\n",
      "│           13 │ Artificial Intelligence                                            │           0 │\n",
      "├──────────────┼────────────────────────────────────────────────────────────────────┼─────────────┤\n",
      "│           14 │ Javascript,Education                                               │           0 │\n",
      "├──────────────┼────────────────────────────────────────────────────────────────────┼─────────────┤\n",
      "│           15 │ COVID-19,Airlines,Aviation                                         │           0 │\n",
      "├──────────────┼────────────────────────────────────────────────────────────────────┼─────────────┤\n",
      "│           16 │ Artificial Intelligence                                            │           0 │\n",
      "├──────────────┼────────────────────────────────────────────────────────────────────┼─────────────┤\n",
      "│           17 │ Javascript,Machine Learning,Pandemics,COVID-19                     │           0 │\n",
      "├──────────────┼────────────────────────────────────────────────────────────────────┼─────────────┤\n",
      "│           18 │ Airport                                                            │           0 │\n",
      "├──────────────┼────────────────────────────────────────────────────────────────────┼─────────────┤\n",
      "│           19 │ Pandemics,Aviation,Artificial Intelligence                         │           0 │\n",
      "├──────────────┼────────────────────────────────────────────────────────────────────┼─────────────┤\n",
      "│           20 │ COVID-19,Airlines,Airport,Aviation                                 │           0 │\n",
      "├──────────────┼────────────────────────────────────────────────────────────────────┼─────────────┤\n",
      "│           21 │ COVID-19,Airlines,Education,Airport                                │           0 │\n",
      "├──────────────┼────────────────────────────────────────────────────────────────────┼─────────────┤\n",
      "│           22 │ Javascript,Education,Python                                        │           0 │\n",
      "├──────────────┼────────────────────────────────────────────────────────────────────┼─────────────┤\n",
      "│           23 │ Machine Learning,Pandemics                                         │           0 │\n",
      "├──────────────┼────────────────────────────────────────────────────────────────────┼─────────────┤\n",
      "│           24 │ COVID-19,Pandemics                                                 │           0 │\n",
      "├──────────────┼────────────────────────────────────────────────────────────────────┼─────────────┤\n",
      "│           25 │ Airport                                                            │           0 │\n",
      "├──────────────┼────────────────────────────────────────────────────────────────────┼─────────────┤\n",
      "│           26 │ Machine Learning,Python,Pandemics,Aviation                         │           0 │\n",
      "├──────────────┼────────────────────────────────────────────────────────────────────┼─────────────┤\n",
      "│           27 │ Airlines                                                           │           0 │\n",
      "├──────────────┼────────────────────────────────────────────────────────────────────┼─────────────┤\n",
      "│           28 │ Airlines,Education,Aviation                                        │           0 │\n",
      "├──────────────┼────────────────────────────────────────────────────────────────────┼─────────────┤\n",
      "│           29 │ Pandemics,Python,Airport,Artificial Intelligence                   │           0 │\n",
      "├──────────────┼────────────────────────────────────────────────────────────────────┼─────────────┤\n",
      "│           30 │ Airport,Aviation,COVID-19,Education,Pandemics                      │           0 │\n",
      "├──────────────┼────────────────────────────────────────────────────────────────────┼─────────────┤\n",
      "│           31 │ Artificial Intelligence,Aviation,Airlines,Education,Pandemics      │           0 │\n",
      "├──────────────┼────────────────────────────────────────────────────────────────────┼─────────────┤\n",
      "│           32 │ Javascript,Airlines,Python                                         │           0 │\n",
      "├──────────────┼────────────────────────────────────────────────────────────────────┼─────────────┤\n",
      "│           33 │ Pandemics,Aviation,Artificial Intelligence                         │           0 │\n",
      "├──────────────┼────────────────────────────────────────────────────────────────────┼─────────────┤\n",
      "│           34 │ Javascript,COVID-19,Education,Pandemics                            │           0 │\n",
      "├──────────────┼────────────────────────────────────────────────────────────────────┼─────────────┤\n",
      "│           35 │ Airlines,Education                                                 │           0 │\n",
      "├──────────────┼────────────────────────────────────────────────────────────────────┼─────────────┤\n",
      "│           36 │ Artificial Intelligence,COVID-19,Airlines,Education,Pandemics      │           0 │\n",
      "├──────────────┼────────────────────────────────────────────────────────────────────┼─────────────┤\n",
      "│           37 │ Javascript,Aviation,Artificial Intelligence                        │           0 │\n",
      "├──────────────┼────────────────────────────────────────────────────────────────────┼─────────────┤\n",
      "│           38 │ Airlines,Pandemics,Aviation                                        │           0 │\n",
      "├──────────────┼────────────────────────────────────────────────────────────────────┼─────────────┤\n",
      "│           39 │ Machine Learning,Python,COVID-19                                   │           0 │\n",
      "├──────────────┼────────────────────────────────────────────────────────────────────┼─────────────┤\n",
      "│           40 │ Javascript,Airlines,Education,Pandemics                            │           0 │\n",
      "╘══════════════╧════════════════════════════════════════════════════════════════════╧═════════════╛\n"
     ]
    }
   ],
   "source": [
    "mayAlsoLikeToView = mayAlsoLikeToView.set_index(\"WebPage ID\")\n",
    "print(tabulate(mayAlsoLikeToView,headers='keys', tablefmt='fancy_grid'))"
   ]
  },
  {
   "cell_type": "markdown",
   "metadata": {},
   "source": [
    "# Agent Programming"
   ]
  },
  {
   "cell_type": "markdown",
   "metadata": {},
   "source": [
    "## Agent Code"
   ]
  },
  {
   "cell_type": "code",
   "execution_count": 19,
   "metadata": {},
   "outputs": [],
   "source": [
    "class Agent:\n",
    "    #Constructor to initialise the class variables.\n",
    "    def __init__(self):\n",
    "        self.topicRel = dict(zip(topics,[50]*len(topics)))\n",
    "        self.operation = None\n",
    "        self.topic = None\n",
    "        self.df = mayAlsoLikeToView.copy()\n",
    "    \n",
    "    #Calculates the Relevance of a webpage as the average of the relevance of individual topics.\n",
    "    def calculateRelevance(self,x):\n",
    "        rel = 0\n",
    "        tp = []\n",
    "        if \",\" in x:\n",
    "            tp = x.split(\",\")\n",
    "        else:\n",
    "            tp = [x]\n",
    "        for i in tp:\n",
    "            rel += self.topicRel[i]\n",
    "        return rel/len(tp)\n",
    "    \n",
    "    #Calculates the relevance of every row in the dataframe.\n",
    "    def interpretInsights(self):\n",
    "        self.df['Relevance'] = self.df[\"Topic\"].apply(self.calculateRelevance)\n",
    "\n",
    "    #Moving in the environment and learning from the user activity.\n",
    "    def move(self,env):\n",
    "        for i in env.index:\n",
    "            for j in env.columns:\n",
    "                if env.at[i,j] != \"NoAction\":\n",
    "                   self.operation,self.topic = env.at[i,j].split(\":\")\n",
    "                if self.operation == \"Browse\":\n",
    "                   self.topicRel[self.topic] += self.topicRel[self.topic]*0.05\n",
    "                elif self.operation == \"NotInterested\":\n",
    "                   self.topicRel[self.topic] -= self.topicRel[self.topic]*0.05\n",
    "                self.interpretInsights()\n",
    "    \n",
    "    #Returns the dictionary of relevance of each topic.\n",
    "    def getRel(self):\n",
    "        return self.topicRel\n",
    "\n",
    "    #Displays the final order in which webpages are displayed.\n",
    "    def displayWebpages(self):\n",
    "        self.df = self.df.sort_values(by=['Relevance'],ascending=False)\n",
    "        print(tabulate(self.df,headers='keys', tablefmt='fancy_grid'))\n"
   ]
  },
  {
   "cell_type": "markdown",
   "metadata": {},
   "source": [
    "## Environment Code"
   ]
  },
  {
   "cell_type": "markdown",
   "metadata": {},
   "source": [
    "The environment is defined as a matrix with row labels as the days of week and the column labels as the hourly times starting from 5pm to 12pm.(7 X 6 matrix)"
   ]
  },
  {
   "cell_type": "code",
   "execution_count": 20,
   "metadata": {},
   "outputs": [],
   "source": [
    "class Environment:\n",
    "    #Constructor to initialise the class variables.\n",
    "    def __init__(self):\n",
    "        self.browsedTopics = set()\n",
    "        self.notInterested = set()\n",
    "        self.days = [\"Monday\",\"Tuesday\",\"Wednesday\",\"Thursday\",\"Friday\",\"Saturday\",\"Sunday\"]\n",
    "        self.time = []\n",
    "        for i in range(5,12):\n",
    "            self.time.append(str(i%12)+\"-\"+str(i%12+1))\n",
    "        self.env = pd.DataFrame(columns=self.time,index=self.days)\n",
    "        self.topics = [\"NoAction\",\"Browse\",\"NotInterested\"]\n",
    "        self.topics = [\"NoAction\",\"Browse\",\"NotInterested\"]\n",
    "    \n",
    "    #Creating the environment.\n",
    "    def createEnv(self):\n",
    "        for i in self.env.index:\n",
    "            for j in self.env.columns:\n",
    "                x = r.choice(self.topics)\n",
    "                if x != \"NoAction\":\n",
    "                   x = x + \":\" + r.choice(topics)\n",
    "                self.env.at[i,j] = x\n",
    "    \n",
    "    #Displaying the environment.\n",
    "    def displayEnv(self):\n",
    "        tabulate.PRESERVE_WHITESPACE = False\n",
    "        print(tabulate(self.env,headers='keys', tablefmt='fancy_grid'))"
   ]
  },
  {
   "cell_type": "markdown",
   "metadata": {},
   "source": [
    "## Driver's Code"
   ]
  },
  {
   "cell_type": "code",
   "execution_count": 21,
   "metadata": {},
   "outputs": [
    {
     "name": "stdout",
     "output_type": "stream",
     "text": [
      "╒═══════════╤════════════════════════════════╤════════════════════════════════╤═══════════════════════════════════════╤════════════════════════╤══════════════════════════╤═════════════════════════╤══════════════════════════╕\n",
      "│           │ 5-6                            │ 6-7                            │ 7-8                                   │ 8-9                    │ 9-10                     │ 10-11                   │ 11-12                    │\n",
      "╞═══════════╪════════════════════════════════╪════════════════════════════════╪═══════════════════════════════════════╪════════════════════════╪══════════════════════════╪═════════════════════════╪══════════════════════════╡\n",
      "│ Monday    │ NotInterested:COVID-19         │ NoAction                       │ NoAction                              │ NoAction               │ NoAction                 │ Browse:Machine Learning │ Browse:Education         │\n",
      "├───────────┼────────────────────────────────┼────────────────────────────────┼───────────────────────────────────────┼────────────────────────┼──────────────────────────┼─────────────────────────┼──────────────────────────┤\n",
      "│ Tuesday   │ NotInterested:Machine Learning │ NotInterested:COVID-19         │ NoAction                              │ Browse:Aviation        │ Browse:Education         │ Browse:Machine Learning │ NoAction                 │\n",
      "├───────────┼────────────────────────────────┼────────────────────────────────┼───────────────────────────────────────┼────────────────────────┼──────────────────────────┼─────────────────────────┼──────────────────────────┤\n",
      "│ Wednesday │ Browse:Airlines                │ NoAction                       │ Browse:Pandemics                      │ NotInterested:Aviation │ NotInterested:COVID-19   │ NotInterested:Education │ NoAction                 │\n",
      "├───────────┼────────────────────────────────┼────────────────────────────────┼───────────────────────────────────────┼────────────────────────┼──────────────────────────┼─────────────────────────┼──────────────────────────┤\n",
      "│ Thursday  │ NoAction                       │ NotInterested:Machine Learning │ Browse:Artificial Intelligence        │ Browse:Airport         │ Browse:Pandemics         │ NotInterested:Pandemics │ NoAction                 │\n",
      "├───────────┼────────────────────────────────┼────────────────────────────────┼───────────────────────────────────────┼────────────────────────┼──────────────────────────┼─────────────────────────┼──────────────────────────┤\n",
      "│ Friday    │ Browse:Javascript              │ Browse:Python                  │ NotInterested:Artificial Intelligence │ NoAction               │ NotInterested:Javascript │ NoAction                │ NotInterested:Javascript │\n",
      "├───────────┼────────────────────────────────┼────────────────────────────────┼───────────────────────────────────────┼────────────────────────┼──────────────────────────┼─────────────────────────┼──────────────────────────┤\n",
      "│ Saturday  │ NotInterested:Pandemics        │ Browse:Artificial Intelligence │ Browse:Machine Learning               │ NoAction               │ Browse:Education         │ NotInterested:Pandemics │ Browse:Education         │\n",
      "├───────────┼────────────────────────────────┼────────────────────────────────┼───────────────────────────────────────┼────────────────────────┼──────────────────────────┼─────────────────────────┼──────────────────────────┤\n",
      "│ Sunday    │ NotInterested:Airlines         │ NoAction                       │ Browse:Education                      │ Browse:Education       │ Browse:Airlines          │ NoAction                │ NoAction                 │\n",
      "╘═══════════╧════════════════════════════════╧════════════════════════════════╧═══════════════════════════════════════╧════════════════════════╧══════════════════════════╧═════════════════════════╧══════════════════════════╛\n"
     ]
    }
   ],
   "source": [
    "Learner = Agent()\n",
    "e = Environment()\n",
    "e.createEnv()\n",
    "e.displayEnv()\n",
    "Learner.move(e.env)"
   ]
  },
  {
   "cell_type": "markdown",
   "metadata": {},
   "source": [
    "## Final Result"
   ]
  },
  {
   "cell_type": "code",
   "execution_count": 22,
   "metadata": {},
   "outputs": [
    {
     "name": "stdout",
     "output_type": "stream",
     "text": [
      "╒══════════════╤════════════════════════════════════════════════════════════════════╤═════════════╕\n",
      "│   WebPage ID │ Topic                                                              │   Relevance │\n",
      "╞══════════════╪════════════════════════════════════════════════════════════════════╪═════════════╡\n",
      "│           27 │ Airlines                                                           │     57.5922 │\n",
      "├──────────────┼────────────────────────────────────────────────────────────────────┼─────────────┤\n",
      "│           35 │ Airlines,Education                                                 │     57.5202 │\n",
      "├──────────────┼────────────────────────────────────────────────────────────────────┼─────────────┤\n",
      "│            7 │ Education,Airport                                                  │     54.9741 │\n",
      "├──────────────┼────────────────────────────────────────────────────────────────────┼─────────────┤\n",
      "│           28 │ Airlines,Education,Aviation                                        │     54.9718 │\n",
      "├──────────────┼────────────────────────────────────────────────────────────────────┼─────────────┤\n",
      "│            4 │ Machine Learning,Airlines,Airport,Artificial Intelligence          │     54.3587 │\n",
      "├──────────────┼────────────────────────────────────────────────────────────────────┼─────────────┤\n",
      "│           12 │ Artificial Intelligence,Airport,Aviation,Machine Learning,Airlines │     53.4619 │\n",
      "├──────────────┼────────────────────────────────────────────────────────────────────┼─────────────┤\n",
      "│           10 │ Machine Learning,Airport,Artificial Intelligence                   │     53.2808 │\n",
      "├──────────────┼────────────────────────────────────────────────────────────────────┼─────────────┤\n",
      "│            3 │ Education,Python,Airport,Aviation                                  │     53.0808 │\n",
      "├──────────────┼────────────────────────────────────────────────────────────────────┼─────────────┤\n",
      "│           18 │ Airport                                                            │     52.5    │\n",
      "├──────────────┼────────────────────────────────────────────────────────────────────┼─────────────┤\n",
      "│           25 │ Airport                                                            │     52.5    │\n",
      "├──────────────┼────────────────────────────────────────────────────────────────────┼─────────────┤\n",
      "│           31 │ Artificial Intelligence,Aviation,Airlines,Education,Pandemics      │     51.9131 │\n",
      "├──────────────┼────────────────────────────────────────────────────────────────────┼─────────────┤\n",
      "│            1 │ Javascript,Airlines,Airport                                        │     51.7015 │\n",
      "├──────────────┼────────────────────────────────────────────────────────────────────┼─────────────┤\n",
      "│           32 │ Javascript,Airlines,Python                                         │     51.7015 │\n",
      "├──────────────┼────────────────────────────────────────────────────────────────────┼─────────────┤\n",
      "│           22 │ Javascript,Education,Python                                        │     51.6535 │\n",
      "├──────────────┼────────────────────────────────────────────────────────────────────┼─────────────┤\n",
      "│           23 │ Machine Learning,Pandemics                                         │     51.2459 │\n",
      "├──────────────┼────────────────────────────────────────────────────────────────────┼─────────────┤\n",
      "│           40 │ Javascript,Airlines,Education,Pandemics                            │     51.2381 │\n",
      "├──────────────┼────────────────────────────────────────────────────────────────────┼─────────────┤\n",
      "│           14 │ Javascript,Education                                               │     51.2302 │\n",
      "├──────────────┼────────────────────────────────────────────────────────────────────┼─────────────┤\n",
      "│           26 │ Machine Learning,Python,Pandemics,Aviation                         │     51.2167 │\n",
      "├──────────────┼────────────────────────────────────────────────────────────────────┼─────────────┤\n",
      "│            9 │ Aviation,Javascript,Machine Learning,Airlines,Pandemics            │     50.9943 │\n",
      "├──────────────┼────────────────────────────────────────────────────────────────────┼─────────────┤\n",
      "│           38 │ Airlines,Pandemics,Aviation                                        │     50.789  │\n",
      "├──────────────┼────────────────────────────────────────────────────────────────────┼─────────────┤\n",
      "│           21 │ COVID-19,Airlines,Education,Airport                                │     50.1779 │\n",
      "├──────────────┼────────────────────────────────────────────────────────────────────┼─────────────┤\n",
      "│           29 │ Pandemics,Python,Airport,Artificial Intelligence                   │     49.9125 │\n",
      "├──────────────┼────────────────────────────────────────────────────────────────────┼─────────────┤\n",
      "│           13 │ Artificial Intelligence                                            │     49.7503 │\n",
      "├──────────────┼────────────────────────────────────────────────────────────────────┼─────────────┤\n",
      "│           16 │ Artificial Intelligence                                            │     49.7503 │\n",
      "├──────────────┼────────────────────────────────────────────────────────────────────┼─────────────┤\n",
      "│           36 │ Artificial Intelligence,COVID-19,Airlines,Education,Pandemics      │     48.5723 │\n",
      "├──────────────┼────────────────────────────────────────────────────────────────────┼─────────────┤\n",
      "│           20 │ COVID-19,Airlines,Airport,Aviation                                 │     48.2846 │\n",
      "├──────────────┼────────────────────────────────────────────────────────────────────┼─────────────┤\n",
      "│           37 │ Javascript,Aviation,Artificial Intelligence                        │     48.2125 │\n",
      "├──────────────┼────────────────────────────────────────────────────────────────────┼─────────────┤\n",
      "│           19 │ Pandemics,Aviation,Artificial Intelligence                         │     48.175  │\n",
      "├──────────────┼────────────────────────────────────────────────────────────────────┼─────────────┤\n",
      "│           33 │ Pandemics,Aviation,Artificial Intelligence                         │     48.175  │\n",
      "├──────────────┼────────────────────────────────────────────────────────────────────┼─────────────┤\n",
      "│            8 │ Aviation,Javascript,COVID-19,Machine Learning,Airlines,Pandemics   │     48.0237 │\n",
      "├──────────────┼────────────────────────────────────────────────────────────────────┼─────────────┤\n",
      "│           39 │ Machine Learning,Python,COVID-19                                   │     47.7544 │\n",
      "├──────────────┼────────────────────────────────────────────────────────────────────┼─────────────┤\n",
      "│           30 │ Airport,Aviation,COVID-19,Education,Pandemics                      │     47.5788 │\n",
      "├──────────────┼────────────────────────────────────────────────────────────────────┼─────────────┤\n",
      "│           15 │ COVID-19,Airlines,Aviation                                         │     46.8794 │\n",
      "├──────────────┼────────────────────────────────────────────────────────────────────┼─────────────┤\n",
      "│            6 │ Javascript,COVID-19,Airlines                                       │     45.2585 │\n",
      "├──────────────┼────────────────────────────────────────────────────────────────────┼─────────────┤\n",
      "│           17 │ Javascript,Machine Learning,Pandemics,COVID-19                     │     45.1688 │\n",
      "├──────────────┼────────────────────────────────────────────────────────────────────┼─────────────┤\n",
      "│           34 │ Javascript,COVID-19,Education,Pandemics                            │     45.1328 │\n",
      "├──────────────┼────────────────────────────────────────────────────────────────────┼─────────────┤\n",
      "│            2 │ COVID-19,Aviation                                                  │     41.523  │\n",
      "├──────────────┼────────────────────────────────────────────────────────────────────┼─────────────┤\n",
      "│           24 │ COVID-19,Pandemics                                                 │     39.0353 │\n",
      "├──────────────┼────────────────────────────────────────────────────────────────────┼─────────────┤\n",
      "│            5 │ COVID-19                                                           │     33.171  │\n",
      "├──────────────┼────────────────────────────────────────────────────────────────────┼─────────────┤\n",
      "│           11 │ COVID-19                                                           │     33.171  │\n",
      "╘══════════════╧════════════════════════════════════════════════════════════════════╧═════════════╛\n"
     ]
    }
   ],
   "source": [
    "Learner.displayWebpages()"
   ]
  }
 ],
 "metadata": {
  "interpreter": {
   "hash": "a55ab4ece29384b9da2602029a0f6ed5cbe09323f95f9aa4d8fe2db970f11356"
  },
  "kernelspec": {
   "display_name": "Python 3.9.1 64-bit",
   "language": "python",
   "name": "python3"
  },
  "language_info": {
   "codemirror_mode": {
    "name": "ipython",
    "version": 3
   },
   "file_extension": ".py",
   "mimetype": "text/x-python",
   "name": "python",
   "nbconvert_exporter": "python",
   "pygments_lexer": "ipython3",
   "version": "3.9.1"
  },
  "orig_nbformat": 4
 },
 "nbformat": 4,
 "nbformat_minor": 2
}
