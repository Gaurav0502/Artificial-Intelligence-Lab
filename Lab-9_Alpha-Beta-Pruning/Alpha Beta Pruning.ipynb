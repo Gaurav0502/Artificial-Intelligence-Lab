{
 "cells": [
  {
   "cell_type": "markdown",
   "id": "65858b7d",
   "metadata": {},
   "source": [
    "Foundations of AI : Lab-8 : Alpha-Beta Pruning\n",
    "\n",
    "Name: Gaurav Pendharkar\n",
    "\n",
    "Registration No.: 20BAI1153"
   ]
  },
  {
   "cell_type": "markdown",
   "id": "d37ca195",
   "metadata": {},
   "source": [
    "# Importing the required modules"
   ]
  },
  {
   "cell_type": "code",
   "execution_count": 32,
   "id": "1863c176",
   "metadata": {},
   "outputs": [],
   "source": [
    "import numpy as np\n",
    "import pandas as pd\n",
    "from tabulate import tabulate"
   ]
  },
  {
   "cell_type": "code",
   "execution_count": 33,
   "id": "a2f621db",
   "metadata": {},
   "outputs": [],
   "source": [
    "INF = float('inf')"
   ]
  },
  {
   "cell_type": "markdown",
   "id": "22abbf3b",
   "metadata": {},
   "source": [
    "# Game Board and Winning Condition"
   ]
  },
  {
   "cell_type": "code",
   "execution_count": 34,
   "id": "c100d533",
   "metadata": {},
   "outputs": [],
   "source": [
    "class GameBoard:\n",
    "    def __init__(self):\n",
    "        self.board = [['O','X',' '],['X',' ','O'],['X',' ','O']]\n",
    "        self.node_val = 0\n",
    "    def haswon(self, playerSymbol):\n",
    "        if self.board[0][0] == self.board[1][1] == self.board[2][2] == playerSymbol:\n",
    "            return True\n",
    "        elif self.board[2][0] == self.board[1][1] == self.board[0][2] == playerSymbol:\n",
    "            return True\n",
    "        elif (len(set(self.board[0])) == 1 and playerSymbol in set(self.board[0])) or (len(set(self.board[1])) == 1 and playerSymbol in set(self.board[1])) or (len(set(self.board[2])) == 1 and playerSymbol in set(self.board[2])):\n",
    "            return True\n",
    "        return False\n",
    "    def displayBoard(self):\n",
    "        print(tabulate(pd.DataFrame(self.board),headers='keys', tablefmt='fancy_grid'))\n",
    "        "
   ]
  },
  {
   "cell_type": "markdown",
   "id": "c418edbc",
   "metadata": {},
   "source": [
    "# Initialising a Game board"
   ]
  },
  {
   "cell_type": "code",
   "execution_count": 35,
   "id": "8ead444d",
   "metadata": {},
   "outputs": [
    {
     "name": "stdout",
     "output_type": "stream",
     "text": [
      "╒════╤═════╤═════╤═════╕\n",
      "│    │ 0   │ 1   │ 2   │\n",
      "╞════╪═════╪═════╪═════╡\n",
      "│  0 │ O   │ X   │     │\n",
      "├────┼─────┼─────┼─────┤\n",
      "│  1 │ X   │     │ O   │\n",
      "├────┼─────┼─────┼─────┤\n",
      "│  2 │ X   │     │ O   │\n",
      "╘════╧═════╧═════╧═════╛\n"
     ]
    }
   ],
   "source": [
    "gb = GameBoard()\n",
    "gb.displayBoard()"
   ]
  },
  {
   "cell_type": "markdown",
   "id": "a0b8bc5c",
   "metadata": {},
   "source": [
    "# Alpha Beta Pruning"
   ]
  },
  {
   "cell_type": "code",
   "execution_count": 36,
   "id": "47dace57",
   "metadata": {},
   "outputs": [],
   "source": [
    "# Number of times the game tree was pruned.\n",
    "nprunes = 0\n",
    "\n",
    "# Alpha - Beta Pruning using Backtracking.\n",
    "def alpha_beta_pruning(board,lvl,alpha,beta):\n",
    "    \n",
    "    # Displaying the board.\n",
    "    board.displayBoard()\n",
    "    \n",
    "    # Initialisation to Infinity.\n",
    "    mn = INF\n",
    "    mx = -INF\n",
    "    \n",
    "    # Denotes whether pruning is needed or not\n",
    "    prune_flag = False\n",
    "    global nprunes\n",
    "    \n",
    "    for i  in range(3):\n",
    "        # Checking whether to prune or not.\n",
    "        if prune_flag: \n",
    "           break\n",
    "            \n",
    "        for j in range(3):\n",
    "           # Checking whether to prune or not.\n",
    "           if prune_flag: \n",
    "              break\n",
    "            \n",
    "           if board.board[i][j] == \" \":\n",
    "              if lvl % 2 == 0:\n",
    "                    # X's move.\n",
    "                    board.board[i][j] = \"X\"\n",
    "                    \n",
    "                    # Recursive Call.\n",
    "                    alpha_beta_pruning(board,lvl + 1,alpha, beta)\n",
    "                    board.board[i][j] = \" \"\n",
    "                    \n",
    "                    mx = max(mx, board.node_val)\n",
    "                    alpha = max(alpha, mx)\n",
    "                    \n",
    "                    # Pruning condition.\n",
    "                    if alpha >= beta:\n",
    "                        print(\"Pruned\")\n",
    "                        \n",
    "                        # Incrementing counter.\n",
    "                        nprunes += 1\n",
    "                        \n",
    "                        # Setting flag\n",
    "                        prune_flag = True\n",
    "                        break\n",
    "              else:\n",
    "                    # O's turn.\n",
    "                    board.board[i][j] = \"O\"\n",
    "                    # Recursive Call.\n",
    "                    alpha_beta_pruning(board,lvl + 1,alpha, beta)\n",
    "                    board.board[i][j] = \" \"\n",
    "                    \n",
    "                    mn = min(mn,board.node_val)\n",
    "                    beta = min(beta, mn)\n",
    "                    \n",
    "                    # Pruning condition.\n",
    "                    if alpha >= beta:\n",
    "                          print(\"Pruned\")\n",
    "                            \n",
    "                          # Incrementing counter.\n",
    "                          nprunes += 1\n",
    "                          \n",
    "                          # Setting flag.\n",
    "                          prune_flag = True\n",
    "                          break\n",
    "    # Checking the winning condition.\n",
    "    if board.haswon(\"X\"):\n",
    "         board.node_val = 0\n",
    "    elif board.haswon(\"O\"):\n",
    "         board.node_val = 1\n",
    "    elif lvl % 2 == 0:\n",
    "         board.node_val = mx\n",
    "    else:\n",
    "         board.node_val = mn\n",
    "            \n",
    "    return board.node_val\n",
    "                    "
   ]
  },
  {
   "cell_type": "code",
   "execution_count": 37,
   "id": "2ae7c0ad",
   "metadata": {},
   "outputs": [
    {
     "name": "stdout",
     "output_type": "stream",
     "text": [
      "╒════╤═════╤═════╤═════╕\n",
      "│    │ 0   │ 1   │ 2   │\n",
      "╞════╪═════╪═════╪═════╡\n",
      "│  0 │ O   │ X   │     │\n",
      "├────┼─────┼─────┼─────┤\n",
      "│  1 │ X   │     │ O   │\n",
      "├────┼─────┼─────┼─────┤\n",
      "│  2 │ X   │     │ O   │\n",
      "╘════╧═════╧═════╧═════╛\n",
      "╒════╤═════╤═════╤═════╕\n",
      "│    │ 0   │ 1   │ 2   │\n",
      "╞════╪═════╪═════╪═════╡\n",
      "│  0 │ O   │ X   │ X   │\n",
      "├────┼─────┼─────┼─────┤\n",
      "│  1 │ X   │     │ O   │\n",
      "├────┼─────┼─────┼─────┤\n",
      "│  2 │ X   │     │ O   │\n",
      "╘════╧═════╧═════╧═════╛\n",
      "╒════╤═════╤═════╤═════╕\n",
      "│    │ 0   │ 1   │ 2   │\n",
      "╞════╪═════╪═════╪═════╡\n",
      "│  0 │ O   │ X   │ X   │\n",
      "├────┼─────┼─────┼─────┤\n",
      "│  1 │ X   │ O   │ O   │\n",
      "├────┼─────┼─────┼─────┤\n",
      "│  2 │ X   │     │ O   │\n",
      "╘════╧═════╧═════╧═════╛\n",
      "╒════╤═════╤═════╤═════╕\n",
      "│    │ 0   │ 1   │ 2   │\n",
      "╞════╪═════╪═════╪═════╡\n",
      "│  0 │ O   │ X   │ X   │\n",
      "├────┼─────┼─────┼─────┤\n",
      "│  1 │ X   │ O   │ O   │\n",
      "├────┼─────┼─────┼─────┤\n",
      "│  2 │ X   │ X   │ O   │\n",
      "╘════╧═════╧═════╧═════╛\n",
      "╒════╤═════╤═════╤═════╕\n",
      "│    │ 0   │ 1   │ 2   │\n",
      "╞════╪═════╪═════╪═════╡\n",
      "│  0 │ O   │ X   │ X   │\n",
      "├────┼─────┼─────┼─────┤\n",
      "│  1 │ X   │     │ O   │\n",
      "├────┼─────┼─────┼─────┤\n",
      "│  2 │ X   │ O   │ O   │\n",
      "╘════╧═════╧═════╧═════╛\n",
      "╒════╤═════╤═════╤═════╕\n",
      "│    │ 0   │ 1   │ 2   │\n",
      "╞════╪═════╪═════╪═════╡\n",
      "│  0 │ O   │ X   │ X   │\n",
      "├────┼─────┼─────┼─────┤\n",
      "│  1 │ X   │ X   │ O   │\n",
      "├────┼─────┼─────┼─────┤\n",
      "│  2 │ X   │ O   │ O   │\n",
      "╘════╧═════╧═════╧═════╛\n",
      "╒════╤═════╤═════╤═════╕\n",
      "│    │ 0   │ 1   │ 2   │\n",
      "╞════╪═════╪═════╪═════╡\n",
      "│  0 │ O   │ X   │     │\n",
      "├────┼─────┼─────┼─────┤\n",
      "│  1 │ X   │ X   │ O   │\n",
      "├────┼─────┼─────┼─────┤\n",
      "│  2 │ X   │     │ O   │\n",
      "╘════╧═════╧═════╧═════╛\n",
      "╒════╤═════╤═════╤═════╕\n",
      "│    │ 0   │ 1   │ 2   │\n",
      "╞════╪═════╪═════╪═════╡\n",
      "│  0 │ O   │ X   │ O   │\n",
      "├────┼─────┼─────┼─────┤\n",
      "│  1 │ X   │ X   │ O   │\n",
      "├────┼─────┼─────┼─────┤\n",
      "│  2 │ X   │     │ O   │\n",
      "╘════╧═════╧═════╧═════╛\n",
      "╒════╤═════╤═════╤═════╕\n",
      "│    │ 0   │ 1   │ 2   │\n",
      "╞════╪═════╪═════╪═════╡\n",
      "│  0 │ O   │ X   │ O   │\n",
      "├────┼─────┼─────┼─────┤\n",
      "│  1 │ X   │ X   │ O   │\n",
      "├────┼─────┼─────┼─────┤\n",
      "│  2 │ X   │ X   │ O   │\n",
      "╘════╧═════╧═════╧═════╛\n",
      "Pruned\n",
      "╒════╤═════╤═════╤═════╕\n",
      "│    │ 0   │ 1   │ 2   │\n",
      "╞════╪═════╪═════╪═════╡\n",
      "│  0 │ O   │ X   │     │\n",
      "├────┼─────┼─────┼─────┤\n",
      "│  1 │ X   │ X   │ O   │\n",
      "├────┼─────┼─────┼─────┤\n",
      "│  2 │ X   │ O   │ O   │\n",
      "╘════╧═════╧═════╧═════╛\n",
      "╒════╤═════╤═════╤═════╕\n",
      "│    │ 0   │ 1   │ 2   │\n",
      "╞════╪═════╪═════╪═════╡\n",
      "│  0 │ O   │ X   │ X   │\n",
      "├────┼─────┼─────┼─────┤\n",
      "│  1 │ X   │ X   │ O   │\n",
      "├────┼─────┼─────┼─────┤\n",
      "│  2 │ X   │ O   │ O   │\n",
      "╘════╧═════╧═════╧═════╛\n",
      "Pruned\n",
      "╒════╤═════╤═════╤═════╕\n",
      "│    │ 0   │ 1   │ 2   │\n",
      "╞════╪═════╪═════╪═════╡\n",
      "│  0 │ O   │ X   │     │\n",
      "├────┼─────┼─────┼─────┤\n",
      "│  1 │ X   │     │ O   │\n",
      "├────┼─────┼─────┼─────┤\n",
      "│  2 │ X   │ X   │ O   │\n",
      "╘════╧═════╧═════╧═════╛\n",
      "╒════╤═════╤═════╤═════╕\n",
      "│    │ 0   │ 1   │ 2   │\n",
      "╞════╪═════╪═════╪═════╡\n",
      "│  0 │ O   │ X   │ O   │\n",
      "├────┼─────┼─────┼─────┤\n",
      "│  1 │ X   │     │ O   │\n",
      "├────┼─────┼─────┼─────┤\n",
      "│  2 │ X   │ X   │ O   │\n",
      "╘════╧═════╧═════╧═════╛\n",
      "╒════╤═════╤═════╤═════╕\n",
      "│    │ 0   │ 1   │ 2   │\n",
      "╞════╪═════╪═════╪═════╡\n",
      "│  0 │ O   │ X   │ O   │\n",
      "├────┼─────┼─────┼─────┤\n",
      "│  1 │ X   │ X   │ O   │\n",
      "├────┼─────┼─────┼─────┤\n",
      "│  2 │ X   │ X   │ O   │\n",
      "╘════╧═════╧═════╧═════╛\n",
      "Pruned\n",
      "╒════╤═════╤═════╤═════╕\n",
      "│    │ 0   │ 1   │ 2   │\n",
      "╞════╪═════╪═════╪═════╡\n",
      "│  0 │ O   │ X   │     │\n",
      "├────┼─────┼─────┼─────┤\n",
      "│  1 │ X   │ O   │ O   │\n",
      "├────┼─────┼─────┼─────┤\n",
      "│  2 │ X   │ X   │ O   │\n",
      "╘════╧═════╧═════╧═════╛\n",
      "╒════╤═════╤═════╤═════╕\n",
      "│    │ 0   │ 1   │ 2   │\n",
      "╞════╪═════╪═════╪═════╡\n",
      "│  0 │ O   │ X   │ X   │\n",
      "├────┼─────┼─────┼─────┤\n",
      "│  1 │ X   │ O   │ O   │\n",
      "├────┼─────┼─────┼─────┤\n",
      "│  2 │ X   │ X   │ O   │\n",
      "╘════╧═════╧═════╧═════╛\n"
     ]
    },
    {
     "data": {
      "text/plain": [
       "1"
      ]
     },
     "execution_count": 37,
     "metadata": {},
     "output_type": "execute_result"
    }
   ],
   "source": [
    "alpha_beta_pruning(gb,0,-INF,INF)"
   ]
  },
  {
   "cell_type": "code",
   "execution_count": 38,
   "id": "6bf30e0d",
   "metadata": {},
   "outputs": [
    {
     "name": "stdout",
     "output_type": "stream",
     "text": [
      "Number of prunings =  3\n"
     ]
    }
   ],
   "source": [
    "print(\"Number of prunings = \",nprunes)"
   ]
  }
 ],
 "metadata": {
  "kernelspec": {
   "display_name": "Python 3 (ipykernel)",
   "language": "python",
   "name": "python3"
  },
  "language_info": {
   "codemirror_mode": {
    "name": "ipython",
    "version": 3
   },
   "file_extension": ".py",
   "mimetype": "text/x-python",
   "name": "python",
   "nbconvert_exporter": "python",
   "pygments_lexer": "ipython3",
   "version": "3.9.7"
  }
 },
 "nbformat": 4,
 "nbformat_minor": 5
}
