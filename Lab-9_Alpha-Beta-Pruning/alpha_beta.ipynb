{
 "cells": [
  {
   "cell_type": "markdown",
   "metadata": {},
   "source": [
    "# Importing the required modules"
   ]
  },
  {
   "cell_type": "code",
   "execution_count": 8,
   "metadata": {},
   "outputs": [],
   "source": [
    "import pandas as pd\n",
    "import numpy as np\n",
    "from tabulate import tabulate"
   ]
  },
  {
   "cell_type": "markdown",
   "metadata": {},
   "source": [
    "# TicTacToe Initialisation"
   ]
  },
  {
   "cell_type": "code",
   "execution_count": 9,
   "metadata": {},
   "outputs": [],
   "source": [
    "class TicTacToe:\n",
    "    def __init__(self):\n",
    "        self.n = 3\n",
    "        self.matrix = [['','',''] for i in range(self.n)]\n",
    "        self.possible_characters = ['X','O','']\n",
    "    def initialize(self):\n",
    "        self.matrix = [['X','O','X'],['','X',''],['O','','O']]\n",
    "    def displayMatrix(self):\n",
    "        return pd.DataFrame(self.matrix)"
   ]
  },
  {
   "cell_type": "code",
   "execution_count": 10,
   "metadata": {},
   "outputs": [
    {
     "name": "stdout",
     "output_type": "stream",
     "text": [
      "╒════╤═════╤═════╤═════╕\n",
      "│    │ 0   │ 1   │ 2   │\n",
      "╞════╪═════╪═════╪═════╡\n",
      "│  0 │ X   │ O   │ X   │\n",
      "├────┼─────┼─────┼─────┤\n",
      "│  1 │     │ X   │     │\n",
      "├────┼─────┼─────┼─────┤\n",
      "│  2 │ O   │     │ O   │\n",
      "╘════╧═════╧═════╧═════╛\n"
     ]
    }
   ],
   "source": [
    "t = TicTacToe()\n",
    "t.initialize()\n",
    "print(tabulate(t.displayMatrix(),headers='keys', tablefmt='fancy_grid'))"
   ]
  },
  {
   "cell_type": "markdown",
   "metadata": {},
   "source": [
    "# Game Outcome"
   ]
  },
  {
   "cell_type": "code",
   "execution_count": 71,
   "metadata": {},
   "outputs": [],
   "source": [
    "class Game:\n",
    "    def __init__(self):\n",
    "        self.terminal_values = {\"Xwins\": 1,\"Otherwise\":0}\n",
    "        self.turns = ['X','O']\n",
    "    def getTerminalVal(self,matrix : list):\n",
    "        f = 0\n",
    "        for i in matrix:\n",
    "            if list(set(i))[0] == 'O':\n",
    "                f = 1\n",
    "                break\n",
    "            if list(set([matrix[0][0],matrix[1][1],matrix[2][2]])) == 'O':\n",
    "                f = 1\n",
    "                break\n",
    "            if list(set([matrix[0][2],matrix[1][1],matrix[2][0]])) == 'O':\n",
    "                f = 1\n",
    "                break\n",
    "            else:\n",
    "                f = 0\n",
    "        return f"
   ]
  },
  {
   "cell_type": "markdown",
   "metadata": {},
   "source": [
    "# Empty Positions"
   ]
  },
  {
   "cell_type": "code",
   "execution_count": 72,
   "metadata": {},
   "outputs": [],
   "source": [
    "empty = [(1,0),(2,1),(1,2)]"
   ]
  },
  {
   "cell_type": "markdown",
   "metadata": {},
   "source": [
    "# Min-max to show one possibility"
   ]
  },
  {
   "cell_type": "code",
   "execution_count": 73,
   "metadata": {},
   "outputs": [],
   "source": [
    "# startTurn = 0 : X's turn and 1 : O's turn\n",
    "def minmax(turns : list,start : list,startTurn : int):\n",
    "    print(tabulate(t.displayMatrix(),headers='keys', tablefmt='fancy_grid'))\n",
    "    for i in empty:\n",
    "        if start[i[0]][i[1]] == '':\n",
    "            start[i[0]][i[1]] = turns[startTurn]\n",
    "            minmax(turns,start,(startTurn + 1)%2)"
   ]
  },
  {
   "cell_type": "code",
   "execution_count": 74,
   "metadata": {},
   "outputs": [],
   "source": [
    "g = Game()"
   ]
  },
  {
   "cell_type": "code",
   "execution_count": 75,
   "metadata": {},
   "outputs": [
    {
     "name": "stdout",
     "output_type": "stream",
     "text": [
      "╒════╤═════╤═════╤═════╕\n",
      "│    │ 0   │ 1   │ 2   │\n",
      "╞════╪═════╪═════╪═════╡\n",
      "│  0 │ X   │ O   │ X   │\n",
      "├────┼─────┼─────┼─────┤\n",
      "│  1 │ X   │ X   │ X   │\n",
      "├────┼─────┼─────┼─────┤\n",
      "│  2 │ O   │ O   │ O   │\n",
      "╘════╧═════╧═════╧═════╛\n"
     ]
    }
   ],
   "source": [
    "minmax(g.turns,t.matrix,0)"
   ]
  },
  {
   "cell_type": "markdown",
   "metadata": {},
   "source": [
    "# Computing outcome from terminal values"
   ]
  },
  {
   "cell_type": "code",
   "execution_count": 77,
   "metadata": {},
   "outputs": [],
   "source": [
    "terminals = [(0,0),(0,0),(0,0)]"
   ]
  },
  {
   "cell_type": "code",
   "execution_count": 78,
   "metadata": {},
   "outputs": [
    {
     "data": {
      "text/plain": [
       "0"
      ]
     },
     "execution_count": 78,
     "metadata": {},
     "output_type": "execute_result"
    }
   ],
   "source": [
    "temp = []\n",
    "for i in terminals:\n",
    "    temp.append(min(i))\n",
    "max(temp)"
   ]
  },
  {
   "cell_type": "markdown",
   "metadata": {},
   "source": [
    "The final answer for the root comes out to be 0. This implies that:\n",
    "- O can win the game.\n",
    "- X cannot win the game but it can be a tie.\n",
    "(If X starts first)"
   ]
  }
 ],
 "metadata": {
  "interpreter": {
   "hash": "a55ab4ece29384b9da2602029a0f6ed5cbe09323f95f9aa4d8fe2db970f11356"
  },
  "kernelspec": {
   "display_name": "Python 3 (ipykernel)",
   "language": "python",
   "name": "python3"
  },
  "language_info": {
   "codemirror_mode": {
    "name": "ipython",
    "version": 3
   },
   "file_extension": ".py",
   "mimetype": "text/x-python",
   "name": "python",
   "nbconvert_exporter": "python",
   "pygments_lexer": "ipython3",
   "version": "3.9.7"
  }
 },
 "nbformat": 4,
 "nbformat_minor": 2
}
